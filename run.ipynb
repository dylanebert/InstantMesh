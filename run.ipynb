{
 "cells": [
  {
   "cell_type": "markdown",
   "id": "ce9db187",
   "metadata": {},
   "source": [
    "#### Load dependencies"
   ]
  },
  {
   "cell_type": "code",
   "execution_count": 1,
   "id": "5db117aa-cf4b-4987-b6df-a2baa138ff71",
   "metadata": {},
   "outputs": [
    {
     "name": "stderr",
     "output_type": "stream",
     "text": [
      "/home/dylan/InstantMesh/venv/lib/python3.10/site-packages/tqdm/auto.py:21: TqdmWarning: IProgress not found. Please update jupyter and ipywidgets. See https://ipywidgets.readthedocs.io/en/stable/user_install.html\n",
      "  from .autonotebook import tqdm as notebook_tqdm\n"
     ]
    }
   ],
   "source": [
    "import numpy as np\n",
    "import rembg\n",
    "import torch\n",
    "from diffusers import DiffusionPipeline\n",
    "from huggingface_hub import hf_hub_download\n",
    "from PIL import Image\n",
    "from torchvision.transforms import v2\n",
    "from src.models.lrm_mesh import InstantMesh\n",
    "from src.utils.camera_util import get_zero123plus_input_cameras\n",
    "from src.utils.mesh_util import save_obj_with_mtl\n",
    "\n",
    "device = torch.device(\"cuda\")"
   ]
  },
  {
   "cell_type": "markdown",
   "id": "6df28b01",
   "metadata": {},
   "source": [
    "#### Load multi-view diffusion model"
   ]
  },
  {
   "cell_type": "code",
   "execution_count": 2,
   "id": "a4a7ae0f-3919-492e-8a00-87ccaf037d1f",
   "metadata": {},
   "outputs": [
    {
     "name": "stderr",
     "output_type": "stream",
     "text": [
      "Loading pipeline components...: 100%|██████████| 8/8 [00:01<00:00,  6.69it/s]\n"
     ]
    }
   ],
   "source": [
    "pipeline = DiffusionPipeline.from_pretrained(\n",
    "    \"sudo-ai/zero123plus-v1.2\",\n",
    "    custom_pipeline=\"zero123plus\",\n",
    "    torch_dtype=torch.float16\n",
    ")"
   ]
  },
  {
   "cell_type": "markdown",
   "id": "7787df53",
   "metadata": {},
   "source": [
    "#### Load custom white-background weights"
   ]
  },
  {
   "cell_type": "code",
   "execution_count": 3,
   "id": "06eda406",
   "metadata": {},
   "outputs": [
    {
     "name": "stderr",
     "output_type": "stream",
     "text": [
      "/tmp/ipykernel_92872/3195201232.py:6: FutureWarning: You are using `torch.load` with `weights_only=False` (the current default value), which uses the default pickle module implicitly. It is possible to construct malicious pickle data which will execute arbitrary code during unpickling (See https://github.com/pytorch/pytorch/blob/main/SECURITY.md#untrusted-models for more details). In a future release, the default value for `weights_only` will be flipped to `True`. This limits the functions that could be executed during unpickling. Arbitrary objects will no longer be allowed to be loaded via this mode unless they are explicitly allowlisted by the user via `torch.serialization.add_safe_globals`. We recommend you start setting `weights_only=True` for any use case where you don't have full control of the loaded file. Please open an issue on GitHub for any issues related to this experimental feature.\n",
      "  state_dict = torch.load(custom_ckpt_path, map_location=\"cpu\")\n"
     ]
    }
   ],
   "source": [
    "custom_ckpt_path = hf_hub_download(\n",
    "    repo_id=\"TencentARC/InstantMesh\",\n",
    "    filename=\"diffusion_pytorch_model.bin\",\n",
    "    repo_type=\"model\"\n",
    ")\n",
    "state_dict = torch.load(custom_ckpt_path, map_location=\"cpu\")\n",
    "pipeline.unet.load_state_dict(state_dict, strict=True)\n",
    "pipeline = pipeline.to(device)"
   ]
  },
  {
   "cell_type": "markdown",
   "id": "fea853ca",
   "metadata": {},
   "source": [
    "#### Load LRM"
   ]
  },
  {
   "cell_type": "code",
   "execution_count": 4,
   "id": "52fb9102",
   "metadata": {},
   "outputs": [
    {
     "name": "stderr",
     "output_type": "stream",
     "text": [
      "Some weights of ViTModel were not initialized from the model checkpoint at facebook/dino-vitb16 and are newly initialized: ['encoder.layer.0.adaLN_modulation.1.bias', 'encoder.layer.0.adaLN_modulation.1.weight', 'encoder.layer.1.adaLN_modulation.1.bias', 'encoder.layer.1.adaLN_modulation.1.weight', 'encoder.layer.10.adaLN_modulation.1.bias', 'encoder.layer.10.adaLN_modulation.1.weight', 'encoder.layer.11.adaLN_modulation.1.bias', 'encoder.layer.11.adaLN_modulation.1.weight', 'encoder.layer.2.adaLN_modulation.1.bias', 'encoder.layer.2.adaLN_modulation.1.weight', 'encoder.layer.3.adaLN_modulation.1.bias', 'encoder.layer.3.adaLN_modulation.1.weight', 'encoder.layer.4.adaLN_modulation.1.bias', 'encoder.layer.4.adaLN_modulation.1.weight', 'encoder.layer.5.adaLN_modulation.1.bias', 'encoder.layer.5.adaLN_modulation.1.weight', 'encoder.layer.6.adaLN_modulation.1.bias', 'encoder.layer.6.adaLN_modulation.1.weight', 'encoder.layer.7.adaLN_modulation.1.bias', 'encoder.layer.7.adaLN_modulation.1.weight', 'encoder.layer.8.adaLN_modulation.1.bias', 'encoder.layer.8.adaLN_modulation.1.weight', 'encoder.layer.9.adaLN_modulation.1.bias', 'encoder.layer.9.adaLN_modulation.1.weight']\n",
      "You should probably TRAIN this model on a down-stream task to be able to use it for predictions and inference.\n",
      "/tmp/ipykernel_92872/189743845.py:20: FutureWarning: You are using `torch.load` with `weights_only=False` (the current default value), which uses the default pickle module implicitly. It is possible to construct malicious pickle data which will execute arbitrary code during unpickling (See https://github.com/pytorch/pytorch/blob/main/SECURITY.md#untrusted-models for more details). In a future release, the default value for `weights_only` will be flipped to `True`. This limits the functions that could be executed during unpickling. Arbitrary objects will no longer be allowed to be loaded via this mode unless they are explicitly allowlisted by the user via `torch.serialization.add_safe_globals`. We recommend you start setting `weights_only=True` for any use case where you don't have full control of the loaded file. Please open an issue on GitHub for any issues related to this experimental feature.\n",
      "  state_dict = torch.load(model_ckpt_path, map_location=\"cpu\")[\"state_dict\"]\n",
      "/home/dylan/InstantMesh/venv/lib/python3.10/site-packages/torch/utils/cpp_extension.py:1965: UserWarning: TORCH_CUDA_ARCH_LIST is not set, all archs for visible cards are included for compilation. \n",
      "If this is not desired, please set os.environ['TORCH_CUDA_ARCH_LIST'].\n",
      "  warnings.warn(\n"
     ]
    }
   ],
   "source": [
    "model_ckpt_path = hf_hub_download(\n",
    "    repo_id=\"TencentARC/InstantMesh\",\n",
    "    filename=\"instant_mesh_large.ckpt\",\n",
    "    repo_type=\"model\"\n",
    ")\n",
    "model = InstantMesh(\n",
    "    encoder_feat_dim=768,\n",
    "    encoder_freeze=False,\n",
    "    encoder_model_name=\"facebook/dino-vitb16\",\n",
    "    transformer_dim=1024,\n",
    "    transformer_layers=16,\n",
    "    transformer_heads=16,\n",
    "    triplane_low_res=32,\n",
    "    triplane_high_res=64,\n",
    "    triplane_dim=80,\n",
    "    rendering_samples_per_ray=128,\n",
    "    grid_res=128,\n",
    "    grid_scale=2.1\n",
    ")\n",
    "state_dict = torch.load(model_ckpt_path, map_location=\"cpu\")[\"state_dict\"]\n",
    "state_dict = {\n",
    "    k[14:]: v\n",
    "    for k, v in state_dict.items()\n",
    "    if k.startswith(\"lrm_generator.\") and \"source_camera\" not in k\n",
    "}\n",
    "model.load_state_dict(state_dict, strict=True)\n",
    "model = model.to(device)\n",
    "model.init_flexicubes_geometry(device, fovy=30.0)\n",
    "model = model.eval()"
   ]
  },
  {
   "cell_type": "markdown",
   "id": "a7f21a6b",
   "metadata": {},
   "source": [
    "#### Open input"
   ]
  },
  {
   "cell_type": "code",
   "execution_count": 5,
   "id": "8fda53a6",
   "metadata": {},
   "outputs": [],
   "source": [
    "input_filename = \"examples/A_cartoon_house_with_red_roof.jpg\"\n",
    "input_image = Image.open(input_filename)"
   ]
  },
  {
   "cell_type": "markdown",
   "id": "5f9bca6d",
   "metadata": {},
   "source": [
    "#### Remove background"
   ]
  },
  {
   "cell_type": "code",
   "execution_count": 6,
   "id": "46fdc4d5",
   "metadata": {},
   "outputs": [],
   "source": [
    "input_image_rembg = rembg.remove(input_image)\n",
    "input_image_rembg.save(\"tmp/input_image_rembg.png\")"
   ]
  },
  {
   "cell_type": "markdown",
   "id": "7d5be038",
   "metadata": {},
   "source": [
    "#### Crop and center foreground"
   ]
  },
  {
   "cell_type": "code",
   "execution_count": 7,
   "id": "66c354fc",
   "metadata": {},
   "outputs": [],
   "source": [
    "image_numpy = np.array(input_image_rembg)\n",
    "alpha = np.where(image_numpy[..., 3] > 0)\n",
    "y1, y2, x1, x2 = (\n",
    "    alpha[0].min(), \n",
    "    alpha[0].max(), \n",
    "    alpha[1].min(), \n",
    "    alpha[1].max()\n",
    ")\n",
    "fg = image_numpy[y1:y2, x1:x2]\n",
    "size = max(fg.shape[0], fg.shape[1])\n",
    "ph0, pw0 = (size - fg.shape[0]) // 2, (size - fg.shape[1]) // 2\n",
    "ph1, pw1 = size - fg.shape[0] - ph0, size - fg.shape[1] - pw0\n",
    "input_image_fg = np.pad(\n",
    "    fg,\n",
    "    ((ph0, ph1), (pw0, pw1), (0, 0)),\n",
    "    mode=\"constant\",\n",
    "    constant_values=((0, 0), (0, 0), (0, 0)),\n",
    ")\n",
    "\n",
    "new_size = int(input_image_fg.shape[0] / 0.85)\n",
    "ph0, pw0 = (new_size - size) // 2, (new_size - size) // 2\n",
    "ph1, pw1 = new_size - size - ph0, new_size - size - pw0\n",
    "input_image_fg = np.pad(\n",
    "    input_image_fg,\n",
    "    ((ph0, ph1), (pw0, pw1), (0, 0)),\n",
    "    mode=\"constant\",\n",
    "    constant_values=((0, 0), (0, 0), (0, 0)),\n",
    ")\n",
    "input_image_fg = Image.fromarray(input_image_fg)\n",
    "input_image_fg.save(\"tmp/input_image_fg.png\")"
   ]
  },
  {
   "cell_type": "markdown",
   "id": "5205dca7",
   "metadata": {},
   "source": [
    "#### Run multi-view diffusion"
   ]
  },
  {
   "cell_type": "code",
   "execution_count": 8,
   "id": "2d1a829e",
   "metadata": {},
   "outputs": [
    {
     "name": "stderr",
     "output_type": "stream",
     "text": [
      "100%|██████████| 75/75 [00:07<00:00,  9.72it/s]\n"
     ]
    }
   ],
   "source": [
    "output_image = pipeline(input_image, num_inference_steps=75).images[0]\n",
    "output_image.save(\"tmp/output_image.png\")"
   ]
  },
  {
   "cell_type": "markdown",
   "id": "268615a1",
   "metadata": {},
   "source": [
    "#### Split views"
   ]
  },
  {
   "cell_type": "code",
   "execution_count": 9,
   "id": "e4a2d19c",
   "metadata": {},
   "outputs": [],
   "source": [
    "images = np.asarray(output_image, dtype=np.float32) / 255.0\n",
    "images = (\n",
    "    torch.from_numpy(images).permute(2, 0, 1).contiguous().float()\n",
    ")\n",
    "\n",
    "n, m = 3, 2\n",
    "c, h, w = images.shape\n",
    "images = images.view(c, n, h // n, m, w // m).permute(1, 3, 0, 2, 4).contiguous()\n",
    "images = images.view(n * m, c, h // n, w // m)\n",
    "\n",
    "for i, image in enumerate(images):\n",
    "    image = image.permute(1, 2, 0).numpy()\n",
    "    image = (image * 255).astype(np.uint8)\n",
    "    image = Image.fromarray(image)\n",
    "    image.save(f\"tmp/output_image_{i}.png\")"
   ]
  },
  {
   "cell_type": "markdown",
   "id": "033eee6a",
   "metadata": {},
   "source": [
    "#### Prepare inputs"
   ]
  },
  {
   "cell_type": "code",
   "execution_count": 10,
   "id": "a28b3f77",
   "metadata": {},
   "outputs": [],
   "source": [
    "input_cameras = get_zero123plus_input_cameras().to(device)\n",
    "\n",
    "images_processed = images.unsqueeze(0).to(device)\n",
    "images_processed = v2.functional.resize(\n",
    "    images_processed, \n",
    "    320, \n",
    "    interpolation=3,\n",
    "    antialias=True\n",
    ").clamp(0, 1)\n",
    "\n",
    "torch.save(images_processed, \"tmp/images_processed.pt\")"
   ]
  },
  {
   "cell_type": "markdown",
   "id": "d95216a0",
   "metadata": {},
   "source": [
    "#### Run LRM"
   ]
  },
  {
   "cell_type": "code",
   "execution_count": 11,
   "id": "bc3337e7",
   "metadata": {},
   "outputs": [],
   "source": [
    "with torch.no_grad():\n",
    "    planes = model.forward_planes(images_processed, input_cameras)\n",
    "    mesh_path = \"tmp/mesh.obj\"\n",
    "    mesh_out = model.extract_mesh(\n",
    "        planes,\n",
    "        use_texture_map=True,\n",
    "        texture_resolution=1024,\n",
    "    )\n",
    "    vertices, faces, uvs, mesh_tex_idx, tex_map = mesh_out\n",
    "    save_obj_with_mtl(\n",
    "        vertices.data.cpu().numpy(),\n",
    "        uvs.data.cpu().numpy(),\n",
    "        faces.data.cpu().numpy(),\n",
    "        mesh_tex_idx.data.cpu().numpy(),\n",
    "        tex_map.permute(1, 2, 0).data.cpu().numpy(),\n",
    "        mesh_path,\n",
    "    )"
   ]
  }
 ],
 "metadata": {
  "kernelspec": {
   "display_name": "Python 3 (ipykernel)",
   "language": "python",
   "name": "python3"
  },
  "language_info": {
   "codemirror_mode": {
    "name": "ipython",
    "version": 3
   },
   "file_extension": ".py",
   "mimetype": "text/x-python",
   "name": "python",
   "nbconvert_exporter": "python",
   "pygments_lexer": "ipython3",
   "version": "3.10.12"
  }
 },
 "nbformat": 4,
 "nbformat_minor": 5
}
