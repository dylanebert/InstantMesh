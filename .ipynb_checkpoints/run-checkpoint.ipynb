{
 "cells": [
  {
   "cell_type": "code",
   "execution_count": 1,
   "id": "5db117aa-cf4b-4987-b6df-a2baa138ff71",
   "metadata": {},
   "outputs": [],
   "source": [
    "import numpy as np\n",
    "import rembg\n",
    "import torch\n",
    "from diffusers import DiffusionPipeline, EulerAncestralDiscreteScheduler\n",
    "from einops import rearrange\n",
    "from huggingface_hub import hf_hub_download\n",
    "from PIL import Image\n",
    "from pytorch_lightning import seed_everything\n",
    "from torchvision.transforms import v2\n",
    "from tqdm import tqdm"
   ]
  },
  {
   "cell_type": "code",
   "execution_count": 2,
   "id": "a4a7ae0f-3919-492e-8a00-87ccaf037d1f",
   "metadata": {},
   "outputs": [
    {
     "data": {
      "application/vnd.jupyter.widget-view+json": {
       "model_id": "abfa51467aa4421895324e06289d89c4",
       "version_major": 2,
       "version_minor": 0
      },
      "text/plain": [
       "Loading pipeline components...:   0%|          | 0/8 [00:00<?, ?it/s]"
      ]
     },
     "metadata": {},
     "output_type": "display_data"
    }
   ],
   "source": [
    "pipeline = DiffusionPipeline.from_pretrained(\n",
    "    \"sudo-ai/zero123plus-v1.2\", \n",
    "    custom_pipeline=\"zero123plus\", \n",
    "    torch_dtype=torch.float16\n",
    ")"
   ]
  }
 ],
 "metadata": {
  "kernelspec": {
   "display_name": "Python 3 (ipykernel)",
   "language": "python",
   "name": "python3"
  },
  "language_info": {
   "codemirror_mode": {
    "name": "ipython",
    "version": 3
   },
   "file_extension": ".py",
   "mimetype": "text/x-python",
   "name": "python",
   "nbconvert_exporter": "python",
   "pygments_lexer": "ipython3",
   "version": "3.10.12"
  }
 },
 "nbformat": 4,
 "nbformat_minor": 5
}
